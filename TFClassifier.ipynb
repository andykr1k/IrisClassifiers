{
 "cells": [
  {
   "cell_type": "code",
   "execution_count": 29,
   "metadata": {},
   "outputs": [],
   "source": [
    "import tensorflow as tf\n",
    "import numpy as np\n",
    "from sklearn.model_selection import train_test_split\n",
    "from sklearn.datasets import load_iris\n",
    "from sklearn.metrics import accuracy_score"
   ]
  },
  {
   "cell_type": "code",
   "execution_count": 30,
   "metadata": {},
   "outputs": [
    {
     "data": {
      "text/plain": [
       "(array([5.1, 3.5, 1.4, 0.2]), 0)"
      ]
     },
     "execution_count": 30,
     "metadata": {},
     "output_type": "execute_result"
    }
   ],
   "source": [
    "# Load the Iris dataset\n",
    "iris = load_iris()\n",
    "X = iris.data\n",
    "y = iris.target\n",
    "\n",
    "X[0], y[0]"
   ]
  },
  {
   "cell_type": "code",
   "execution_count": 31,
   "metadata": {},
   "outputs": [
    {
     "data": {
      "text/plain": [
       "(4,)"
      ]
     },
     "execution_count": 31,
     "metadata": {},
     "output_type": "execute_result"
    }
   ],
   "source": [
    "X[0].shape"
   ]
  },
  {
   "cell_type": "code",
   "execution_count": 32,
   "metadata": {},
   "outputs": [
    {
     "data": {
      "text/plain": [
       "()"
      ]
     },
     "execution_count": 32,
     "metadata": {},
     "output_type": "execute_result"
    }
   ],
   "source": [
    "y[0].shape"
   ]
  },
  {
   "cell_type": "code",
   "execution_count": 33,
   "metadata": {},
   "outputs": [],
   "source": [
    "# Split Train/Test Data\n",
    "X_train, X_test, y_train, y_test = train_test_split(\n",
    "    X, y, test_size=0.2, random_state=0)"
   ]
  },
  {
   "cell_type": "code",
   "execution_count": 34,
   "metadata": {},
   "outputs": [
    {
     "data": {
      "text/plain": [
       "<keras.src.engine.sequential.Sequential at 0x28f1336a0>"
      ]
     },
     "execution_count": 34,
     "metadata": {},
     "output_type": "execute_result"
    }
   ],
   "source": [
    "# Model Architecture\n",
    "model = tf.keras.Sequential([\n",
    "    tf.keras.layers.Dense(32, activation='relu', input_shape=(4,)),\n",
    "    tf.keras.layers.Dense(1)\n",
    "])\n",
    "model"
   ]
  },
  {
   "cell_type": "code",
   "execution_count": 35,
   "metadata": {},
   "outputs": [],
   "source": [
    "# Compiling Model\n",
    "model.compile(optimizer='adam',\n",
    "              loss='categorical_crossentropy',\n",
    "              metrics=['accuracy'])"
   ]
  },
  {
   "cell_type": "code",
   "execution_count": 36,
   "metadata": {},
   "outputs": [
    {
     "name": "stdout",
     "output_type": "stream",
     "text": [
      "Epoch 1/100\n"
     ]
    },
    {
     "name": "stdout",
     "output_type": "stream",
     "text": [
      "3/3 [==============================] - 0s 2ms/step - loss: 1.2418e-07 - accuracy: 0.3250\n",
      "Epoch 2/100\n",
      "3/3 [==============================] - 0s 1ms/step - loss: 1.2418e-07 - accuracy: 0.3250\n",
      "Epoch 3/100\n",
      "3/3 [==============================] - 0s 936us/step - loss: 1.2418e-07 - accuracy: 0.3250\n",
      "Epoch 4/100\n",
      "3/3 [==============================] - 0s 1ms/step - loss: 1.2418e-07 - accuracy: 0.3250\n",
      "Epoch 5/100\n",
      "3/3 [==============================] - 0s 2ms/step - loss: 1.2418e-07 - accuracy: 0.3250\n",
      "Epoch 6/100\n",
      "3/3 [==============================] - 0s 1ms/step - loss: 1.2418e-07 - accuracy: 0.3250\n",
      "Epoch 7/100\n",
      "3/3 [==============================] - 0s 1ms/step - loss: 1.2418e-07 - accuracy: 0.3250\n",
      "Epoch 8/100\n",
      "3/3 [==============================] - 0s 857us/step - loss: 1.2418e-07 - accuracy: 0.3250\n",
      "Epoch 9/100\n",
      "3/3 [==============================] - 0s 2ms/step - loss: 1.2418e-07 - accuracy: 0.3250\n",
      "Epoch 10/100\n",
      "3/3 [==============================] - 0s 892us/step - loss: 1.2418e-07 - accuracy: 0.3250\n",
      "Epoch 11/100\n",
      "3/3 [==============================] - 0s 1ms/step - loss: 1.2418e-07 - accuracy: 0.3250\n",
      "Epoch 12/100\n",
      "3/3 [==============================] - 0s 807us/step - loss: 1.2418e-07 - accuracy: 0.3250\n",
      "Epoch 13/100\n",
      "3/3 [==============================] - 0s 911us/step - loss: 1.2418e-07 - accuracy: 0.3250\n",
      "Epoch 14/100\n",
      "3/3 [==============================] - 0s 1ms/step - loss: 1.2418e-07 - accuracy: 0.3250\n",
      "Epoch 15/100\n",
      "3/3 [==============================] - 0s 933us/step - loss: 1.2418e-07 - accuracy: 0.3250\n",
      "Epoch 16/100\n",
      "3/3 [==============================] - 0s 803us/step - loss: 1.2418e-07 - accuracy: 0.3250\n",
      "Epoch 17/100\n",
      "3/3 [==============================] - 0s 1ms/step - loss: 1.2418e-07 - accuracy: 0.3250\n",
      "Epoch 18/100\n",
      "3/3 [==============================] - 0s 1ms/step - loss: 1.2418e-07 - accuracy: 0.3250\n",
      "Epoch 19/100\n",
      "3/3 [==============================] - 0s 946us/step - loss: 1.2418e-07 - accuracy: 0.3250\n",
      "Epoch 20/100\n",
      "3/3 [==============================] - 0s 921us/step - loss: 1.2418e-07 - accuracy: 0.3250\n",
      "Epoch 21/100\n",
      "3/3 [==============================] - 0s 3ms/step - loss: 1.2418e-07 - accuracy: 0.3250\n",
      "Epoch 22/100\n",
      "3/3 [==============================] - 0s 3ms/step - loss: 1.2418e-07 - accuracy: 0.3250\n",
      "Epoch 23/100\n",
      "3/3 [==============================] - 0s 2ms/step - loss: 1.2418e-07 - accuracy: 0.3250\n",
      "Epoch 24/100\n",
      "3/3 [==============================] - 0s 4ms/step - loss: 1.2418e-07 - accuracy: 0.3250\n",
      "Epoch 25/100\n",
      "3/3 [==============================] - 0s 3ms/step - loss: 1.2418e-07 - accuracy: 0.3250\n",
      "Epoch 26/100\n",
      "3/3 [==============================] - 0s 2ms/step - loss: 1.2418e-07 - accuracy: 0.3250\n",
      "Epoch 27/100\n",
      "3/3 [==============================] - 0s 2ms/step - loss: 1.2418e-07 - accuracy: 0.3250\n",
      "Epoch 28/100\n",
      "3/3 [==============================] - 0s 2ms/step - loss: 1.2418e-07 - accuracy: 0.3250\n",
      "Epoch 29/100\n",
      "3/3 [==============================] - 0s 860us/step - loss: 1.2418e-07 - accuracy: 0.3250\n",
      "Epoch 30/100\n",
      "3/3 [==============================] - 0s 822us/step - loss: 1.2418e-07 - accuracy: 0.3250\n",
      "Epoch 31/100\n",
      "3/3 [==============================] - 0s 1ms/step - loss: 1.2418e-07 - accuracy: 0.3250\n",
      "Epoch 32/100\n",
      "3/3 [==============================] - 0s 957us/step - loss: 1.2418e-07 - accuracy: 0.3250\n",
      "Epoch 33/100\n",
      "3/3 [==============================] - 0s 806us/step - loss: 1.2418e-07 - accuracy: 0.3250\n",
      "Epoch 34/100\n",
      "3/3 [==============================] - 0s 733us/step - loss: 1.2418e-07 - accuracy: 0.3250\n",
      "Epoch 35/100\n",
      "3/3 [==============================] - 0s 836us/step - loss: 1.2418e-07 - accuracy: 0.3250\n",
      "Epoch 36/100\n",
      "3/3 [==============================] - 0s 1ms/step - loss: 1.2418e-07 - accuracy: 0.3250\n",
      "Epoch 37/100\n",
      "3/3 [==============================] - 0s 880us/step - loss: 1.2418e-07 - accuracy: 0.3250\n",
      "Epoch 38/100\n",
      "3/3 [==============================] - 0s 1ms/step - loss: 1.2418e-07 - accuracy: 0.3250\n",
      "Epoch 39/100\n",
      "3/3 [==============================] - 0s 702us/step - loss: 1.2418e-07 - accuracy: 0.3250\n",
      "Epoch 40/100\n",
      "3/3 [==============================] - 0s 1ms/step - loss: 1.2418e-07 - accuracy: 0.3250\n",
      "Epoch 41/100\n",
      "3/3 [==============================] - 0s 1ms/step - loss: 1.2418e-07 - accuracy: 0.3250\n",
      "Epoch 42/100\n",
      "3/3 [==============================] - 0s 729us/step - loss: 1.2418e-07 - accuracy: 0.3250\n",
      "Epoch 43/100\n",
      "3/3 [==============================] - 0s 672us/step - loss: 1.2418e-07 - accuracy: 0.3250\n",
      "Epoch 44/100\n",
      "3/3 [==============================] - 0s 2ms/step - loss: 1.2418e-07 - accuracy: 0.3250\n",
      "Epoch 45/100\n",
      "3/3 [==============================] - 0s 1ms/step - loss: 1.2418e-07 - accuracy: 0.3250\n",
      "Epoch 46/100\n",
      "3/3 [==============================] - 0s 1ms/step - loss: 1.2418e-07 - accuracy: 0.3250\n",
      "Epoch 47/100\n",
      "3/3 [==============================] - 0s 1ms/step - loss: 1.2418e-07 - accuracy: 0.3250\n",
      "Epoch 48/100\n",
      "3/3 [==============================] - 0s 2ms/step - loss: 1.2418e-07 - accuracy: 0.3250\n",
      "Epoch 49/100\n",
      "3/3 [==============================] - 0s 816us/step - loss: 1.2418e-07 - accuracy: 0.3250\n",
      "Epoch 50/100\n",
      "3/3 [==============================] - 0s 793us/step - loss: 1.2418e-07 - accuracy: 0.3250\n",
      "Epoch 51/100\n",
      "3/3 [==============================] - 0s 1ms/step - loss: 1.2418e-07 - accuracy: 0.3250\n",
      "Epoch 52/100\n",
      "3/3 [==============================] - 0s 1ms/step - loss: 1.2418e-07 - accuracy: 0.3250\n",
      "Epoch 53/100\n",
      "3/3 [==============================] - 0s 990us/step - loss: 1.2418e-07 - accuracy: 0.3250\n",
      "Epoch 54/100\n",
      "3/3 [==============================] - 0s 818us/step - loss: 1.2418e-07 - accuracy: 0.3250\n",
      "Epoch 55/100\n",
      "3/3 [==============================] - 0s 850us/step - loss: 1.2418e-07 - accuracy: 0.3250\n",
      "Epoch 56/100\n",
      "3/3 [==============================] - 0s 2ms/step - loss: 1.2418e-07 - accuracy: 0.3250\n",
      "Epoch 57/100\n",
      "3/3 [==============================] - 0s 954us/step - loss: 1.2418e-07 - accuracy: 0.3250\n",
      "Epoch 58/100\n",
      "3/3 [==============================] - 0s 1ms/step - loss: 1.2418e-07 - accuracy: 0.3250\n",
      "Epoch 59/100\n",
      "3/3 [==============================] - 0s 869us/step - loss: 1.2418e-07 - accuracy: 0.3250\n",
      "Epoch 60/100\n",
      "3/3 [==============================] - 0s 2ms/step - loss: 1.2418e-07 - accuracy: 0.3250\n",
      "Epoch 61/100\n",
      "3/3 [==============================] - 0s 2ms/step - loss: 1.2418e-07 - accuracy: 0.3250\n",
      "Epoch 62/100\n",
      "3/3 [==============================] - 0s 2ms/step - loss: 1.2418e-07 - accuracy: 0.3250\n",
      "Epoch 63/100\n",
      "3/3 [==============================] - 0s 849us/step - loss: 1.2418e-07 - accuracy: 0.3250\n",
      "Epoch 64/100\n",
      "3/3 [==============================] - 0s 800us/step - loss: 1.2418e-07 - accuracy: 0.3250\n",
      "Epoch 65/100\n",
      "3/3 [==============================] - 0s 782us/step - loss: 1.2418e-07 - accuracy: 0.3250\n",
      "Epoch 66/100\n",
      "3/3 [==============================] - 0s 737us/step - loss: 1.2418e-07 - accuracy: 0.3250\n",
      "Epoch 67/100\n",
      "3/3 [==============================] - 0s 928us/step - loss: 1.2418e-07 - accuracy: 0.3250\n",
      "Epoch 68/100\n",
      "3/3 [==============================] - 0s 981us/step - loss: 1.2418e-07 - accuracy: 0.3250\n",
      "Epoch 69/100\n",
      "3/3 [==============================] - 0s 772us/step - loss: 1.2418e-07 - accuracy: 0.3250\n",
      "Epoch 70/100\n",
      "3/3 [==============================] - 0s 855us/step - loss: 1.2418e-07 - accuracy: 0.3250\n",
      "Epoch 71/100\n",
      "3/3 [==============================] - 0s 2ms/step - loss: 1.2418e-07 - accuracy: 0.3250\n",
      "Epoch 72/100\n",
      "3/3 [==============================] - 0s 1ms/step - loss: 1.2418e-07 - accuracy: 0.3250\n",
      "Epoch 73/100\n",
      "3/3 [==============================] - 0s 977us/step - loss: 1.2418e-07 - accuracy: 0.3250\n",
      "Epoch 74/100\n",
      "3/3 [==============================] - 0s 902us/step - loss: 1.2418e-07 - accuracy: 0.3250\n",
      "Epoch 75/100\n",
      "3/3 [==============================] - 0s 1ms/step - loss: 1.2418e-07 - accuracy: 0.3250\n",
      "Epoch 76/100\n",
      "3/3 [==============================] - 0s 945us/step - loss: 1.2418e-07 - accuracy: 0.3250\n",
      "Epoch 77/100\n",
      "3/3 [==============================] - 0s 690us/step - loss: 1.2418e-07 - accuracy: 0.3250\n",
      "Epoch 78/100\n",
      "3/3 [==============================] - 0s 715us/step - loss: 1.2418e-07 - accuracy: 0.3250\n",
      "Epoch 79/100\n",
      "3/3 [==============================] - 0s 1ms/step - loss: 1.2418e-07 - accuracy: 0.3250\n",
      "Epoch 80/100\n",
      "3/3 [==============================] - 0s 1ms/step - loss: 1.2418e-07 - accuracy: 0.3250\n",
      "Epoch 81/100\n",
      "3/3 [==============================] - 0s 724us/step - loss: 1.2418e-07 - accuracy: 0.3250\n",
      "Epoch 82/100\n",
      "3/3 [==============================] - 0s 1ms/step - loss: 1.2418e-07 - accuracy: 0.3250\n",
      "Epoch 83/100\n",
      "3/3 [==============================] - 0s 765us/step - loss: 1.2418e-07 - accuracy: 0.3250\n",
      "Epoch 84/100\n",
      "3/3 [==============================] - 0s 802us/step - loss: 1.2418e-07 - accuracy: 0.3250\n",
      "Epoch 85/100\n",
      "3/3 [==============================] - 0s 1ms/step - loss: 1.2418e-07 - accuracy: 0.3250\n",
      "Epoch 86/100\n",
      "3/3 [==============================] - 0s 777us/step - loss: 1.2418e-07 - accuracy: 0.3250\n",
      "Epoch 87/100\n",
      "3/3 [==============================] - 0s 830us/step - loss: 1.2418e-07 - accuracy: 0.3250\n",
      "Epoch 88/100\n",
      "3/3 [==============================] - 0s 984us/step - loss: 1.2418e-07 - accuracy: 0.3250\n",
      "Epoch 89/100\n",
      "3/3 [==============================] - 0s 941us/step - loss: 1.2418e-07 - accuracy: 0.3250\n",
      "Epoch 90/100\n",
      "3/3 [==============================] - 0s 852us/step - loss: 1.2418e-07 - accuracy: 0.3250\n",
      "Epoch 91/100\n",
      "3/3 [==============================] - 0s 1ms/step - loss: 1.2418e-07 - accuracy: 0.3250\n",
      "Epoch 92/100\n",
      "3/3 [==============================] - 0s 870us/step - loss: 1.2418e-07 - accuracy: 0.3250\n",
      "Epoch 93/100\n",
      "3/3 [==============================] - 0s 837us/step - loss: 1.2418e-07 - accuracy: 0.3250\n",
      "Epoch 94/100\n",
      "3/3 [==============================] - 0s 2ms/step - loss: 1.2418e-07 - accuracy: 0.3250\n",
      "Epoch 95/100\n",
      "3/3 [==============================] - 0s 747us/step - loss: 1.2418e-07 - accuracy: 0.3250\n",
      "Epoch 96/100\n",
      "3/3 [==============================] - 0s 1ms/step - loss: 1.2418e-07 - accuracy: 0.3250\n",
      "Epoch 97/100\n",
      "3/3 [==============================] - 0s 862us/step - loss: 1.2418e-07 - accuracy: 0.3250\n",
      "Epoch 98/100\n",
      "3/3 [==============================] - 0s 738us/step - loss: 1.2418e-07 - accuracy: 0.3250\n",
      "Epoch 99/100\n",
      "3/3 [==============================] - 0s 1ms/step - loss: 1.2418e-07 - accuracy: 0.3250\n",
      "Epoch 100/100\n",
      "3/3 [==============================] - 0s 885us/step - loss: 1.2418e-07 - accuracy: 0.3250\n"
     ]
    },
    {
     "data": {
      "text/plain": [
       "<keras.src.callbacks.History at 0x28ffb5e70>"
      ]
     },
     "execution_count": 36,
     "metadata": {},
     "output_type": "execute_result"
    }
   ],
   "source": [
    "# Training model with test data\n",
    "model.fit(X_train, y_train, batch_size=50, epochs=100)"
   ]
  },
  {
   "cell_type": "code",
   "execution_count": 37,
   "metadata": {},
   "outputs": [
    {
     "name": "stdout",
     "output_type": "stream",
     "text": [
      "Test loss: 9.934108646802997e-08\n",
      "Test accuracy: 0.36666667461395264\n"
     ]
    }
   ],
   "source": [
    "# Evaluating Model\n",
    "loss, accuracy = model.evaluate(X_test, y_test, verbose=0)\n",
    "print('Test loss:', loss)\n",
    "print('Test accuracy:', accuracy)"
   ]
  },
  {
   "cell_type": "code",
   "execution_count": 38,
   "metadata": {},
   "outputs": [
    {
     "name": "stdout",
     "output_type": "stream",
     "text": [
      "1/1 [==============================] - 0s 37ms/step\n"
     ]
    },
    {
     "data": {
      "text/plain": [
       "array([[ 0.24572086],\n",
       "       [-0.03674126],\n",
       "       [-0.16540778],\n",
       "       [-0.09579873],\n",
       "       [-0.1358298 ],\n",
       "       [ 0.10809374],\n",
       "       [-0.06974721],\n",
       "       [-0.00225639],\n",
       "       [-0.01739526],\n",
       "       [ 0.02505422],\n",
       "       [-0.20516896],\n",
       "       [-0.00451422],\n",
       "       [-0.14479041],\n",
       "       [ 0.0330112 ],\n",
       "       [-0.07456994],\n",
       "       [-0.19091082],\n",
       "       [-0.00591135],\n",
       "       [-0.12090755],\n",
       "       [-0.04789859],\n",
       "       [-0.03909135],\n",
       "       [ 0.10044575],\n",
       "       [-0.05411887],\n",
       "       [-0.2277304 ],\n",
       "       [-0.11366296],\n",
       "       [ 0.09169245],\n",
       "       [-0.10368109],\n",
       "       [-0.1652391 ],\n",
       "       [-0.032758  ],\n",
       "       [-0.01082313],\n",
       "       [-0.07231903]], dtype=float32)"
      ]
     },
     "execution_count": 38,
     "metadata": {},
     "output_type": "execute_result"
    }
   ],
   "source": [
    "# Creating Predictions using Trained Model\n",
    "y_pred = model.predict(X_test)\n",
    "y_pred"
   ]
  },
  {
   "cell_type": "code",
   "execution_count": 39,
   "metadata": {},
   "outputs": [
    {
     "ename": "AxisError",
     "evalue": "axis 1 is out of bounds for array of dimension 1",
     "output_type": "error",
     "traceback": [
      "\u001b[0;31m---------------------------------------------------------------------------\u001b[0m",
      "\u001b[0;31mAxisError\u001b[0m                                 Traceback (most recent call last)",
      "\u001b[1;32m/Users/andrew/Desktop/Projects/IrisLinearClassifier/TFLinearClassifier.ipynb Cell 11\u001b[0m line \u001b[0;36m2\n\u001b[1;32m      <a href='vscode-notebook-cell:/Users/andrew/Desktop/Projects/IrisLinearClassifier/TFLinearClassifier.ipynb#X11sZmlsZQ%3D%3D?line=0'>1</a>\u001b[0m \u001b[39m# Displaying predictions and accuracy of predictions\u001b[39;00m\n\u001b[0;32m----> <a href='vscode-notebook-cell:/Users/andrew/Desktop/Projects/IrisLinearClassifier/TFLinearClassifier.ipynb#X11sZmlsZQ%3D%3D?line=1'>2</a>\u001b[0m actual \u001b[39m=\u001b[39m np\u001b[39m.\u001b[39;49margmax(y_test, axis\u001b[39m=\u001b[39;49m\u001b[39m1\u001b[39;49m)\n\u001b[1;32m      <a href='vscode-notebook-cell:/Users/andrew/Desktop/Projects/IrisLinearClassifier/TFLinearClassifier.ipynb#X11sZmlsZQ%3D%3D?line=2'>3</a>\u001b[0m predicted \u001b[39m=\u001b[39m np\u001b[39m.\u001b[39margmax(y_pred, axis\u001b[39m=\u001b[39m\u001b[39m1\u001b[39m)\n\u001b[1;32m      <a href='vscode-notebook-cell:/Users/andrew/Desktop/Projects/IrisLinearClassifier/TFLinearClassifier.ipynb#X11sZmlsZQ%3D%3D?line=3'>4</a>\u001b[0m \u001b[39mprint\u001b[39m(\u001b[39mf\u001b[39m\u001b[39m\"\u001b[39m\u001b[39mActual: \u001b[39m\u001b[39m{\u001b[39;00mactual\u001b[39m}\u001b[39;00m\u001b[39m\"\u001b[39m)\n",
      "File \u001b[0;32m~/Desktop/Projects/IrisLinearClassifier/env/lib/python3.10/site-packages/numpy/core/fromnumeric.py:1229\u001b[0m, in \u001b[0;36margmax\u001b[0;34m(a, axis, out, keepdims)\u001b[0m\n\u001b[1;32m   1142\u001b[0m \u001b[39m\u001b[39m\u001b[39m\"\"\"\u001b[39;00m\n\u001b[1;32m   1143\u001b[0m \u001b[39mReturns the indices of the maximum values along an axis.\u001b[39;00m\n\u001b[1;32m   1144\u001b[0m \n\u001b[0;32m   (...)\u001b[0m\n\u001b[1;32m   1226\u001b[0m \u001b[39m(2, 1, 4)\u001b[39;00m\n\u001b[1;32m   1227\u001b[0m \u001b[39m\"\"\"\u001b[39;00m\n\u001b[1;32m   1228\u001b[0m kwds \u001b[39m=\u001b[39m {\u001b[39m'\u001b[39m\u001b[39mkeepdims\u001b[39m\u001b[39m'\u001b[39m: keepdims} \u001b[39mif\u001b[39;00m keepdims \u001b[39mis\u001b[39;00m \u001b[39mnot\u001b[39;00m np\u001b[39m.\u001b[39m_NoValue \u001b[39melse\u001b[39;00m {}\n\u001b[0;32m-> 1229\u001b[0m \u001b[39mreturn\u001b[39;00m _wrapfunc(a, \u001b[39m'\u001b[39;49m\u001b[39margmax\u001b[39;49m\u001b[39m'\u001b[39;49m, axis\u001b[39m=\u001b[39;49maxis, out\u001b[39m=\u001b[39;49mout, \u001b[39m*\u001b[39;49m\u001b[39m*\u001b[39;49mkwds)\n",
      "File \u001b[0;32m~/Desktop/Projects/IrisLinearClassifier/env/lib/python3.10/site-packages/numpy/core/fromnumeric.py:59\u001b[0m, in \u001b[0;36m_wrapfunc\u001b[0;34m(obj, method, *args, **kwds)\u001b[0m\n\u001b[1;32m     56\u001b[0m     \u001b[39mreturn\u001b[39;00m _wrapit(obj, method, \u001b[39m*\u001b[39margs, \u001b[39m*\u001b[39m\u001b[39m*\u001b[39mkwds)\n\u001b[1;32m     58\u001b[0m \u001b[39mtry\u001b[39;00m:\n\u001b[0;32m---> 59\u001b[0m     \u001b[39mreturn\u001b[39;00m bound(\u001b[39m*\u001b[39;49margs, \u001b[39m*\u001b[39;49m\u001b[39m*\u001b[39;49mkwds)\n\u001b[1;32m     60\u001b[0m \u001b[39mexcept\u001b[39;00m \u001b[39mTypeError\u001b[39;00m:\n\u001b[1;32m     61\u001b[0m     \u001b[39m# A TypeError occurs if the object does have such a method in its\u001b[39;00m\n\u001b[1;32m     62\u001b[0m     \u001b[39m# class, but its signature is not identical to that of NumPy's. This\u001b[39;00m\n\u001b[0;32m   (...)\u001b[0m\n\u001b[1;32m     66\u001b[0m     \u001b[39m# Call _wrapit from within the except clause to ensure a potential\u001b[39;00m\n\u001b[1;32m     67\u001b[0m     \u001b[39m# exception has a traceback chain.\u001b[39;00m\n\u001b[1;32m     68\u001b[0m     \u001b[39mreturn\u001b[39;00m _wrapit(obj, method, \u001b[39m*\u001b[39margs, \u001b[39m*\u001b[39m\u001b[39m*\u001b[39mkwds)\n",
      "\u001b[0;31mAxisError\u001b[0m: axis 1 is out of bounds for array of dimension 1"
     ]
    }
   ],
   "source": [
    "# Displaying predictions and accuracy of predictions\n",
    "actual = np.argmax(y_test, axis=1)\n",
    "predicted = np.argmax(y_pred, axis=1)\n",
    "print(f\"Actual: {actual}\")\n",
    "print(f\"Predicted: {predicted}\")\n",
    "\n",
    "accuracy = accuracy_score(actual, predicted)\n",
    "print(f\"Accuracy: {accuracy * 100:.2f}%\")"
   ]
  }
 ],
 "metadata": {
  "kernelspec": {
   "display_name": "env",
   "language": "python",
   "name": "python3"
  },
  "language_info": {
   "codemirror_mode": {
    "name": "ipython",
    "version": 3
   },
   "file_extension": ".py",
   "mimetype": "text/x-python",
   "name": "python",
   "nbconvert_exporter": "python",
   "pygments_lexer": "ipython3",
   "version": "3.10.4"
  }
 },
 "nbformat": 4,
 "nbformat_minor": 2
}
